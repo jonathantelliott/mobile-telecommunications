{
 "cells": [
  {
   "cell_type": "markdown",
   "metadata": {},
   "source": [
    "## Mobile Telecommunications Industry Equilibrium Simulation Example"
   ]
  },
  {
   "cell_type": "markdown",
   "metadata": {},
   "source": [
    "Import packages. (Note that this is a subset of the packages imported in $\\texttt{counterfactuals.py}$ because we are only importing the ones we need to use.)"
   ]
  },
  {
   "cell_type": "code",
   "execution_count": 1,
   "metadata": {},
   "outputs": [],
   "source": [
    "import numpy as np\n",
    "import pandas as pd\n",
    "\n",
    "import copy\n",
    "\n",
    "import supply.infrastructurefunctions as infr\n",
    "import supply.infrastructureequilibrium as ie\n",
    "\n",
    "import demand.demandsystem as demsys\n",
    "import demand.coefficients as coef\n",
    "\n",
    "import welfare.welfare as welfare\n",
    "\n",
    "import time"
   ]
  },
  {
   "cell_type": "markdown",
   "metadata": {},
   "source": [
    "Define function to compute equilibrium and measure welfare. Below is a simplified version of the one in  $\\texttt{counterfactuals.py}$."
   ]
  },
  {
   "cell_type": "code",
   "execution_count": 2,
   "metadata": {},
   "outputs": [],
   "source": [
    "def compute_eqm(bws, gammas, ds, xis, theta, populations, market_areas, c_u, c_R, R_0, p_0, num_firms=None, num_prods=None, product_firm_correspondence=None, areatype=\"urban\", impute_MVNO={'impute': False}, symmetric=False, R_fixed=False, print_addl_msg=False, pidx=0, qidx=1):\n",
    "    \"\"\"\n",
    "        Compute an equilibrium given description of market structure\n",
    "    \n",
    "    Parameters\n",
    "    ----------\n",
    "        bws : ndarray\n",
    "            (M,F) or (M,1) array of bandwidth in MHz\n",
    "        gammas : ndarray\n",
    "            (M,) array of spectral efficiencies\n",
    "        ds : DemandSystem\n",
    "            contains all the data about markets for demand\n",
    "        xis : ndarray \n",
    "            (M,J_total) or (M,J_{per firm}) matrix of xis\n",
    "        theta : ndarray\n",
    "            (K,) array of demand parameters\n",
    "        populations : ndarray\n",
    "            (M,) array of market populations\n",
    "        market_areas : ndarray\n",
    "            (M,) array of geographic size of markets in km^2\n",
    "        c_u : ndarray\n",
    "            (J_total,) or (J_{per firm},) array of per-user costs\n",
    "        c_R : ndarray\n",
    "            (M,F) or (M,1) array of per-tower costs\n",
    "        R_0 : ndarray\n",
    "            (M,F) or (M,1) array of initial guess of firm-market radii\n",
    "        p_0 : ndarray\n",
    "            (J_total,) or (J_{per firm},) array of initial guess of prices\n",
    "        num_firms : int or None\n",
    "            specifies the number of firms if symmetric\n",
    "        num_prods : int or None\n",
    "            specifies the number of products per firm if symmetric\n",
    "        product_firm_correspondence : ndarray or None\n",
    "            (J_total,) array of integers that specify id of firm to which product belongs if not symmetric\n",
    "        areatype : string\n",
    "            whether using urban, suburban, or rural Hata loss function\n",
    "        symmetric : bool\n",
    "            specifies whether the equilibrium solving for is symmetric (quicker to compute\n",
    "        impute_MVNO : dict\n",
    "            dict with\n",
    "            'impute' : bool (whether to impute the Qs for MVNO)\n",
    "            'firms_share' (optional) : ndarray ((F-1,) array of whether firms share qualities with MVNOs)\n",
    "            'include' (optional) : bool (whether to include MVNO Q in returned Q)\n",
    "        R_fixed : bool\n",
    "            determine whether to allow R to respond in the equilibrium, if True use R_0 as R*\n",
    "        print_addl_msg : bool\n",
    "            determines whether or not to print inputs and output of root solver\n",
    "        pidx : int\n",
    "            index of prices in ds\n",
    "        qidx : int\n",
    "            index of download speeds in ds\n",
    "            \n",
    "    Returns\n",
    "    -------\n",
    "        successful : bool\n",
    "            True if equilibrium computation successful, False otherwise\n",
    "        cs_ : float\n",
    "            consumer surplus\n",
    "        ps_ : float\n",
    "            producer surplus\n",
    "        ts_ : float\n",
    "            total surplus\n",
    "        p_star_ : ndarray\n",
    "            (J_total,) or (J_{per firm},) array of firms' equilibrium prices\n",
    "        R_star_ : ndarray\n",
    "            (M,F) or (M,) array of firms' equilibrium infrastrucuture choices\n",
    "        num_stations_stars_ : ndarray\n",
    "            (M,) array of total number of base stations built\n",
    "        num_stations_per_firm_stars_ : ndarray\n",
    "            (M,F) or (M,) array of total number of base stations built by each firm\n",
    "        q_star_ : ndarray\n",
    "            (M,F) or (M,) array of download speeds that result from prices and infrastructure\n",
    "    \"\"\"\n",
    "\n",
    "    # Deep copy DemandSystem so can make changes to it and not change original\n",
    "    ds_ = copy.deepcopy(ds)\n",
    "\n",
    "    # Compute the equilibrium\n",
    "    R_star, p_star, q_star, success = ie.infrastructure_eqm(bws, gammas, ds_, xis, theta, populations, market_areas, c_u, c_R, R_0, p_0, symmetric=symmetric, impute_MVNO=impute_MVNO, areatype=areatype, R_fixed=R_fixed, print_msg=print_addl_msg)\n",
    "\n",
    "    # Update Demand System\n",
    "    if symmetric:\n",
    "        ds_.data[:,:,pidx] = np.copy(p_star)\n",
    "        ds_.data[:,:,qidx] = np.tile(q_star, (num_prods,))\n",
    "    else:\n",
    "        ds_.data[:,:,pidx] = p_star[np.newaxis,:]\n",
    "        ds_.data[:,:,qidx] = np.take_along_axis(q_star, product_firm_correspondence[np.newaxis,:], 1)\n",
    "\n",
    "    # Calculate welfare impact\n",
    "    if symmetric:\n",
    "        xis = np.tile(xis, (1,num_firms))\n",
    "        c_u = np.tile(c_u, (num_firms,))\n",
    "        c_R = np.tile(c_R, (1,num_firms))\n",
    "    cs_ = welfare.agg_consumer_surplus(ds_, xis, theta, populations, include_logit_shock=False, include_pop=False)\n",
    "    ps_ = welfare.producer_surplus(ds_, xis, theta, populations, market_areas, R_star, c_u, c_R, include_pop=False)\n",
    "    ts_ = cs_ + ps_\n",
    "\n",
    "    # Determine equilibrium values to return\n",
    "    p_stars_ = p_star[:num_prods] if symmetric else np.copy(p_star)\n",
    "    R_stars_ = R_star[:,0] if symmetric else R_star\n",
    "    num_stations_stars_ = num_firms * infr.num_stations(R_stars_, market_areas) if symmetric else np.sum(infr.num_stations(R_stars_, market_areas), axis=1)\n",
    "    num_stations_per_firm_stars_ = infr.num_stations(R_stars_, market_areas)\n",
    "    q_stars_ = q_star[:,0] if symmetric else q_star\n",
    "            \n",
    "    return success, cs_, ps_, ts_, p_stars_, R_stars_, num_stations_stars_, num_stations_per_firm_stars_, q_stars_"
   ]
  },
  {
   "cell_type": "markdown",
   "metadata": {},
   "source": [
    "Set up the environment with the same values used as when we solve for the symmetric equilibrium with four firms. Because we are solving for a symmetric equilibrium (with $\\texttt{symmetric}$ option in $\\texttt{compute}{\\_}\\texttt{eqm}$ set to TRUE), we do not need to repeat the firm dimension for each firm."
   ]
  },
  {
   "cell_type": "code",
   "execution_count": 3,
   "metadata": {},
   "outputs": [],
   "source": [
    "# Number of firms and bandwidth endowments\n",
    "num_firms = 4\n",
    "bws = np.array([[77.8258306075]]) # per-firm bandwidth allocations\n",
    "num_markets = bws.shape[0]\n",
    "\n",
    "# Per-base station costs\n",
    "c_R = np.array([[3333.43898256]]) # cost per-base station (this is per-bw cost multiplied by the amount of bandwidth)\n",
    "\n",
    "# Description of market(s)\n",
    "gammas = np.array([0.1615156]) # spectral efficiencies\n",
    "populations = np.array([45502.2951795]) # population of markets\n",
    "market_areas = np.array([16.299135]) # area of markets\n",
    "income_distributions = np.array([[4308.1, 6636.6, 8778.3, 10723.2, 12722., 14742.4, 17051.2, 20040., 24792.1]]) # income deciles\n",
    "\n",
    "# Phone plans offered\n",
    "num_prods = 2 # per firm\n",
    "dlims = np.array([1000.0, 10000.0]) # data limits of each plan offered by each firm\n",
    "vlims = np.array([1.0, 1.0]) # unlimited voice dummies of each plan offered by each firm\n",
    "c_u = np.array([8.1754159, 20.53066142]) # marginal costs\n",
    "\n",
    "# Demand\n",
    "theta = np.array([-1.8593453, -0.72733838, 0.46040311, 2.37549113, 0.59651453, 0.33457959, -8.87018317, 0.76662816]) # vector of demand parameters\n",
    "xis = np.array([[2.37549113, 2.37549113]]) # \\xi's of each plan in each market"
   ]
  },
  {
   "cell_type": "markdown",
   "metadata": {},
   "source": [
    "Create a DemandSystem with the above information. If not changing product characteristics, there is no need to edit the below code."
   ]
  },
  {
   "cell_type": "code",
   "execution_count": 4,
   "metadata": {},
   "outputs": [],
   "source": [
    "# Set up initial DemandSystem\n",
    "chars = {'names': ['p', 'q', 'dlim', 'vunlimited', 'Orange'], 'norm': np.array([False, False, False, False, False])} # product characteristics\n",
    "elist = [] # spectral efficiencies, not used, so can leave blank\n",
    "demolist = ['yc1', 'yc2', 'yc3', 'yc4', 'yc5', 'yc6', 'yc7', 'yc8', 'yc9'] # income deciles names\n",
    "col_names = chars['names'] + ['dbar', 'pop_dens'] + demolist + ['mktshare', 'msize', 'market', 'j'] # some of these required but only used for demand estimation, so values don't matter for simulation\n",
    "df_ds = pd.DataFrame({col: np.arange(num_prods) + 1 for col in col_names}) # values don't matter, will be replaced later\n",
    "ds = demsys.DemandSystem(df_ds, chars, elist, demolist, np.zeros((1,)), 0.0, np.arange(num_prods), np.arange(num_prods), 0.0)\n",
    "\n",
    "# Identify indices to change plan characteristics\n",
    "pidx = ds.chars.index(ds.pname)\n",
    "qidx = ds.chars.index(ds.qname)\n",
    "dlimidx = ds.chars.index(ds.dlimname)\n",
    "vlimidx = ds.chars.index(ds.vunlimitedname)\n",
    "Oidx = ds.chars.index(ds.Oname)\n",
    "yc1idx = ds.dim3.index(ds.demolist[0])\n",
    "yclastidx = ds.dim3.index(ds.demolist[-1])\n",
    "\n",
    "# Fill in plan and market characteristics\n",
    "ds.data = np.zeros((num_markets, num_firms * num_prods,ds.data.shape[2])) \n",
    "ds.data[:,:,pidx] = np.zeros((num_markets, num_firms * num_prods)) # prices, doesn't matter b/c will be replaced in compute_eqm function\n",
    "ds.data[:,:,qidx] = np.zeros((num_markets, num_firms * num_prods)) # download speeds, doesn't matter b/c will be replaced in compute_eqm function\n",
    "ds.data[:,:,dlimidx] = np.tile(dlims[np.newaxis,:], (num_markets, num_firms)) # data limits\n",
    "ds.data[:,:,vlimidx] = np.tile(vlims[np.newaxis,:], (num_markets, num_firms)) # voice limits\n",
    "ds.data[:,:,Oidx] = 0. # Orange dummy, zero b/c captured by the \\xi's\n",
    "ds.firms = np.repeat(np.arange(num_firms, dtype=int) + 1, num_prods) # id for each firm\n",
    "ds.J = num_firms * num_prods # total number of phone plans\n",
    "ds.data[:,:,yc1idx:yclastidx+1] = income_distributions[:,np.newaxis,:] # fill in income distribution"
   ]
  },
  {
   "cell_type": "markdown",
   "metadata": {},
   "source": [
    "Now we can compute the equilibrium."
   ]
  },
  {
   "cell_type": "code",
   "execution_count": 5,
   "metadata": {},
   "outputs": [
    {
     "name": "stdout",
     "output_type": "stream",
     "text": [
      "Successful computation in 19.4 seconds. Equilibrium values:\n",
      "\tprices: [14.67693195 29.86382408]\n",
      "\tradii: [1.73331385]\n",
      "\tnumber of total stations: [8.35253386]\n",
      "\tnumber of stations per firm: [2.08813346]\n",
      "\tdownload speeds: [2.90203298]\n",
      "\tconsumer surplus: 35.6166842090322\n",
      "\tproduct surplus: 5.519399060128836\n",
      "\ttotal surplus: 41.136083269161034\n"
     ]
    }
   ],
   "source": [
    "# Starting values for radii and prices\n",
    "R_0 = np.array([[0.5]]) # initial guess of equilibrium radii\n",
    "p_0 = np.array([8.1754159, 20.53066142]) # initial guess of equilibrium prices\n",
    "\n",
    "start = time.time()\n",
    "res = compute_eqm(bws, gammas, ds, xis, theta, populations, market_areas, c_u, c_R, R_0, p_0, num_firms=num_firms, num_prods=num_prods, symmetric=True)\n",
    "end = time.time()\n",
    "success = res[0]\n",
    "cs_ = res[1]\n",
    "ps_ = res[2]\n",
    "ts_ = res[3]\n",
    "p_stars_ = res[4]\n",
    "R_stars_ = res[5]\n",
    "num_stations_stars_ = res[6]\n",
    "num_stations_per_firm_stars_ = res[7]\n",
    "q_stars_ = res[8]\n",
    "\n",
    "if success:\n",
    "    print(f\"Successful computation in {np.round(end - start, 1)} seconds. Equilibrium values:\", flush=True)\n",
    "    print(f\"\\tprices: {p_stars_}\", flush=True)\n",
    "    print(f\"\\tradii: {R_stars_}\", flush=True)\n",
    "    print(f\"\\tnumber of total stations: {num_stations_stars_}\", flush=True)\n",
    "    print(f\"\\tnumber of stations per firm: {num_stations_per_firm_stars_}\", flush=True)\n",
    "    print(f\"\\tdownload speeds: {q_stars_}\", flush=True)\n",
    "    print(f\"\\tconsumer surplus: {cs_}\", flush=True)\n",
    "    print(f\"\\tproduct surplus: {ps_}\", flush=True)\n",
    "    print(f\"\\ttotal surplus: {ts_}\", flush=True)\n",
    "else:\n",
    "    print(f\"Equilibrium computation failed.\", flush=True)"
   ]
  },
  {
   "cell_type": "markdown",
   "metadata": {},
   "source": [
    "Instead of using the $\\texttt{symmetric}$ option, we could have repeated the values for each of the four firms and solved for the equilibrium, as follows."
   ]
  },
  {
   "cell_type": "code",
   "execution_count": 6,
   "metadata": {},
   "outputs": [
    {
     "name": "stdout",
     "output_type": "stream",
     "text": [
      "Successful computation in 154.8 seconds. Equilibrium values:\n",
      "\tprices: [14.67693195 29.86382409 14.67693195 29.86382407 14.67693195 29.8638241\n",
      " 14.67693195 29.86382407]\n",
      "\tradii: [[1.73331385 1.73331385 1.73331385 1.73331385]]\n",
      "\tnumber of total stations: [8.35253387]\n",
      "\tnumber of stations per firm: [[2.08813347 2.08813347 2.08813347 2.08813347]]\n",
      "\tdownload speeds: [[2.90203299 2.90203299 2.90203299 2.90203299]]\n",
      "\tconsumer surplus: 35.61668420805435\n",
      "\tproduct surplus: 5.519399061005499\n",
      "\ttotal surplus: 41.13608326905985\n"
     ]
    }
   ],
   "source": [
    "# Expand variables across the firm dimension\n",
    "bws = np.array([[77.8258306075, 77.8258306075, 77.8258306075, 77.8258306075]])\n",
    "c_R = np.array([[3333.43898256, 3333.43898256, 3333.43898256, 3333.43898256]])\n",
    "c_u = np.array([8.1754159, 20.53066142, 8.1754159, 20.53066142, 8.1754159, 20.53066142, 8.1754159, 20.53066142])\n",
    "xis = np.array([[2.37549113, 2.37549113, 2.37549113, 2.37549113, 2.37549113, 2.37549113, 2.37549113, 2.37549113]])\n",
    "R_0 = np.array([[0.5, 0.5, 0.5, 0.5]])\n",
    "p_0 = np.array([8.1754159, 20.53066142, 8.1754159, 20.53066142, 8.1754159, 20.53066142, 8.1754159, 20.53066142])\n",
    "\n",
    "# Create array mapping for each product which firm it belongs to\n",
    "product_firm_correspondence = np.array([0, 0, 1, 1, 2, 2, 3, 3])\n",
    "\n",
    "# Solve for equilibrium\n",
    "start = time.time()\n",
    "res = compute_eqm(bws, gammas, ds, xis, theta, populations, market_areas, c_u, c_R, R_0, p_0, product_firm_correspondence=product_firm_correspondence)\n",
    "end = time.time()\n",
    "success = res[0]\n",
    "cs_ = res[1]\n",
    "ps_ = res[2]\n",
    "ts_ = res[3]\n",
    "p_stars_ = res[4]\n",
    "R_stars_ = res[5]\n",
    "num_stations_stars_ = res[6]\n",
    "num_stations_per_firm_stars_ = res[7]\n",
    "q_stars_ = res[8]\n",
    "\n",
    "if success:\n",
    "    print(f\"Successful computation in {np.round(end - start, 1)} seconds. Equilibrium values:\", flush=True)\n",
    "    print(f\"\\tprices: {p_stars_}\", flush=True)\n",
    "    print(f\"\\tradii: {R_stars_}\", flush=True)\n",
    "    print(f\"\\tnumber of total stations: {num_stations_stars_}\", flush=True)\n",
    "    print(f\"\\tnumber of stations per firm: {num_stations_per_firm_stars_}\", flush=True)\n",
    "    print(f\"\\tdownload speeds: {q_stars_}\", flush=True)\n",
    "    print(f\"\\tconsumer surplus: {cs_}\", flush=True)\n",
    "    print(f\"\\tproduct surplus: {ps_}\", flush=True)\n",
    "    print(f\"\\ttotal surplus: {ts_}\", flush=True)\n",
    "else:\n",
    "    print(f\"Equilibrium computation failed.\", flush=True)"
   ]
  },
  {
   "cell_type": "markdown",
   "metadata": {},
   "source": [
    "We can even solve for asymmetric equilibria. For example, let's change the bandwidth allocations of the firms."
   ]
  },
  {
   "cell_type": "code",
   "execution_count": 7,
   "metadata": {},
   "outputs": [
    {
     "name": "stdout",
     "output_type": "stream",
     "text": [
      "Successful computation in 232.3 seconds. Equilibrium values:\n",
      "\tprices: [14.66312494 29.85528926 14.66312494 29.85528927 14.69002039 29.87160725\n",
      " 14.6900204  29.87160731]\n",
      "\tradii: [[1.60322889 1.60322889 1.85049547 1.85049547]]\n",
      "\tnumber of total stations: [8.54557511]\n",
      "\tnumber of stations per firm: [[2.44074052 2.44074052 1.83204703 1.83204703]]\n",
      "\tdownload speeds: [[2.78333828 2.78333828 2.99570433 2.99570432]]\n",
      "\tconsumer surplus: 35.61114773300332\n",
      "\tproduct surplus: 5.5226027050154105\n",
      "\ttotal surplus: 41.13375043801873\n"
     ]
    }
   ],
   "source": [
    "# Change bandwidth allocation\n",
    "per_bw_c_R = c_R / bws\n",
    "bws = np.array([[0.2, 0.2, 0.3, 0.3]]) * np.sum(bws) # preserve the total amount of bandwidth\n",
    "c_R = per_bw_c_R * bws # changing bandwidth changes per-base station cost\n",
    "\n",
    "# Solve for equilibrium\n",
    "start = time.time()\n",
    "res = compute_eqm(bws, gammas, ds, xis, theta, populations, market_areas, c_u, c_R, R_0, p_0, product_firm_correspondence=product_firm_correspondence)\n",
    "end = time.time()\n",
    "success = res[0]\n",
    "cs_ = res[1]\n",
    "ps_ = res[2]\n",
    "ts_ = res[3]\n",
    "p_stars_ = res[4]\n",
    "R_stars_ = res[5]\n",
    "num_stations_stars_ = res[6]\n",
    "num_stations_per_firm_stars_ = res[7]\n",
    "q_stars_ = res[8]\n",
    "\n",
    "if success:\n",
    "    print(f\"Successful computation in {np.round(end - start, 1)} seconds. Equilibrium values:\", flush=True)\n",
    "    print(f\"\\tprices: {p_stars_}\", flush=True)\n",
    "    print(f\"\\tradii: {R_stars_}\", flush=True)\n",
    "    print(f\"\\tnumber of total stations: {num_stations_stars_}\", flush=True)\n",
    "    print(f\"\\tnumber of stations per firm: {num_stations_per_firm_stars_}\", flush=True)\n",
    "    print(f\"\\tdownload speeds: {q_stars_}\", flush=True)\n",
    "    print(f\"\\tconsumer surplus: {cs_}\", flush=True)\n",
    "    print(f\"\\tproduct surplus: {ps_}\", flush=True)\n",
    "    print(f\"\\ttotal surplus: {ts_}\", flush=True)\n",
    "else:\n",
    "    print(f\"Equilibrium computation failed.\", flush=True)"
   ]
  },
  {
   "cell_type": "markdown",
   "metadata": {},
   "source": [
    "If we additionally wanted to change the data limits of the phone plans by firm, we could do that too. For example, let's have 8 GB instead of 10 GB as the upper data limit for some firms (one of the 0.2 bw firms and one of the 0.3 bw firms)."
   ]
  },
  {
   "cell_type": "code",
   "execution_count": 8,
   "metadata": {},
   "outputs": [
    {
     "name": "stdout",
     "output_type": "stream",
     "text": [
      "Successful computation in 148.7 seconds. Equilibrium values:\n",
      "\tprices: [14.66304968 29.85524573 14.6631573  29.85530327 14.6899426  29.87156179\n",
      " 14.69015408 29.87167967]\n",
      "\tradii: [[1.60330241 1.60281023 1.85057677 1.84960235]]\n",
      "\tnumber of total stations: [8.54823523]\n",
      "\tnumber of stations per firm: [[2.44051668 2.44201574 1.83188607 1.83381673]]\n",
      "\tdownload speeds: [[2.78321535 2.78413286 2.99556931 2.99737845]]\n",
      "\tconsumer surplus: 35.61139871089839\n",
      "\tproduct surplus: 5.52241378580884\n",
      "\ttotal surplus: 41.13381249670723\n"
     ]
    }
   ],
   "source": [
    "# Replace data limit characteristics\n",
    "new_dlims = np.array([1000.0, 10000.0, 1000.0, 8000.0, 1000.0, 10000.0, 1000.0, 8000.0])\n",
    "ds.data[:,:,dlimidx] = np.tile(new_dlims[np.newaxis,:], (num_markets, 1))\n",
    "\n",
    "# Solve for equilibrium\n",
    "start = time.time()\n",
    "res = compute_eqm(bws, gammas, ds, xis, theta, populations, market_areas, c_u, c_R, R_0, p_0, product_firm_correspondence=product_firm_correspondence)\n",
    "end = time.time()\n",
    "success = res[0]\n",
    "cs_ = res[1]\n",
    "ps_ = res[2]\n",
    "ts_ = res[3]\n",
    "p_stars_ = res[4]\n",
    "R_stars_ = res[5]\n",
    "num_stations_stars_ = res[6]\n",
    "num_stations_per_firm_stars_ = res[7]\n",
    "q_stars_ = res[8]\n",
    "\n",
    "if success:\n",
    "    print(f\"Successful computation in {np.round(end - start, 1)} seconds. Equilibrium values:\", flush=True)\n",
    "    print(f\"\\tprices: {p_stars_}\", flush=True)\n",
    "    print(f\"\\tradii: {R_stars_}\", flush=True)\n",
    "    print(f\"\\tnumber of total stations: {num_stations_stars_}\", flush=True)\n",
    "    print(f\"\\tnumber of stations per firm: {num_stations_per_firm_stars_}\", flush=True)\n",
    "    print(f\"\\tdownload speeds: {q_stars_}\", flush=True)\n",
    "    print(f\"\\tconsumer surplus: {cs_}\", flush=True)\n",
    "    print(f\"\\tproduct surplus: {ps_}\", flush=True)\n",
    "    print(f\"\\ttotal surplus: {ts_}\", flush=True)\n",
    "else:\n",
    "    print(f\"Equilibrium computation failed.\", flush=True)"
   ]
  }
 ],
 "metadata": {
  "kernelspec": {
   "display_name": "Python 3",
   "language": "python",
   "name": "python3"
  },
  "language_info": {
   "codemirror_mode": {
    "name": "ipython",
    "version": 3
   },
   "file_extension": ".py",
   "mimetype": "text/x-python",
   "name": "python",
   "nbconvert_exporter": "python",
   "pygments_lexer": "ipython3",
   "version": "3.7.3"
  }
 },
 "nbformat": 4,
 "nbformat_minor": 2
}
